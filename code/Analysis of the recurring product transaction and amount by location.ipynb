{
 "cells": [
  {
   "cell_type": "code",
   "execution_count": 136,
   "id": "f6fa5fab",
   "metadata": {},
   "outputs": [],
   "source": [
    "#### import library here \n",
    "\n",
    "\n",
    "import pandas as pd \n",
    "\n",
    "amount = pd.read_csv('/Users/tsechiho/Desktop/5005 final project B/location_amount_gps.csv')\n",
    "\n",
    "trans = pd.read_csv('/Users/tsechiho/Desktop/5005 final project B/location_transaction_gps.csv')"
   ]
  },
  {
   "cell_type": "code",
   "execution_count": 137,
   "id": "1d6f0bea",
   "metadata": {},
   "outputs": [
    {
     "data": {
      "text/plain": [
       "Index(['district', 'trans_count', 'location', 'latitude', 'longitude'], dtype='object')"
      ]
     },
     "execution_count": 137,
     "metadata": {},
     "output_type": "execute_result"
    }
   ],
   "source": [
    "trans.columns"
   ]
  },
  {
   "cell_type": "code",
   "execution_count": 138,
   "id": "96bebf80",
   "metadata": {},
   "outputs": [
    {
     "name": "stdout",
     "output_type": "stream",
     "text": [
      "Checking of the latitude\n",
      "set()\n",
      "set()\n",
      "Checking of the longitude\n",
      "set()\n",
      "set()\n"
     ]
    }
   ],
   "source": [
    "print('Checking of the latitude')\n",
    "print(set(amount.latitude) - set(trans.latitude))\n",
    "\n",
    "print(set(trans.latitude) - set(amount.latitude))\n",
    "\n",
    "print('Checking of the longitude')\n",
    "\n",
    "print(set(amount.longitude) - set(trans.longitude))\n",
    "\n",
    "print(set(trans.longitude) - set(amount.longitude))"
   ]
  },
  {
   "cell_type": "code",
   "execution_count": 139,
   "id": "b838e781",
   "metadata": {},
   "outputs": [],
   "source": [
    "trans = trans.drop('location', axis=1)\n",
    "\n",
    "amount = amount.drop('location', axis=1)"
   ]
  },
  {
   "cell_type": "code",
   "execution_count": 140,
   "id": "5c28e4a2",
   "metadata": {},
   "outputs": [
    {
     "data": {
      "text/html": [
       "<div>\n",
       "<style scoped>\n",
       "    .dataframe tbody tr th:only-of-type {\n",
       "        vertical-align: middle;\n",
       "    }\n",
       "\n",
       "    .dataframe tbody tr th {\n",
       "        vertical-align: top;\n",
       "    }\n",
       "\n",
       "    .dataframe thead th {\n",
       "        text-align: right;\n",
       "    }\n",
       "</style>\n",
       "<table border=\"1\" class=\"dataframe\">\n",
       "  <thead>\n",
       "    <tr style=\"text-align: right;\">\n",
       "      <th></th>\n",
       "      <th>district</th>\n",
       "      <th>trans_count</th>\n",
       "      <th>latitude</th>\n",
       "      <th>longitude</th>\n",
       "    </tr>\n",
       "  </thead>\n",
       "  <tbody>\n",
       "    <tr>\n",
       "      <th>0</th>\n",
       "      <td>ABERDEEN HK</td>\n",
       "      <td>21643</td>\n",
       "      <td>22.248907</td>\n",
       "      <td>114.156421</td>\n",
       "    </tr>\n",
       "    <tr>\n",
       "      <th>1</th>\n",
       "      <td>ADMIRALTY HK</td>\n",
       "      <td>2389</td>\n",
       "      <td>22.278616</td>\n",
       "      <td>114.166269</td>\n",
       "    </tr>\n",
       "    <tr>\n",
       "      <th>2</th>\n",
       "      <td>AP LEI CHAU HK</td>\n",
       "      <td>35145</td>\n",
       "      <td>22.239935</td>\n",
       "      <td>114.154524</td>\n",
       "    </tr>\n",
       "    <tr>\n",
       "      <th>3</th>\n",
       "      <td>BRAEMAR HILL HK</td>\n",
       "      <td>15478</td>\n",
       "      <td>22.286418</td>\n",
       "      <td>114.206442</td>\n",
       "    </tr>\n",
       "    <tr>\n",
       "      <th>4</th>\n",
       "      <td>CAUSEWAY BAY HK</td>\n",
       "      <td>9010</td>\n",
       "      <td>22.282078</td>\n",
       "      <td>114.189159</td>\n",
       "    </tr>\n",
       "  </tbody>\n",
       "</table>\n",
       "</div>"
      ],
      "text/plain": [
       "          district  trans_count   latitude   longitude\n",
       "0      ABERDEEN HK        21643  22.248907  114.156421\n",
       "1     ADMIRALTY HK         2389  22.278616  114.166269\n",
       "2   AP LEI CHAU HK        35145  22.239935  114.154524\n",
       "3  BRAEMAR HILL HK        15478  22.286418  114.206442\n",
       "4  CAUSEWAY BAY HK         9010  22.282078  114.189159"
      ]
     },
     "execution_count": 140,
     "metadata": {},
     "output_type": "execute_result"
    }
   ],
   "source": [
    "trans.head()"
   ]
  },
  {
   "cell_type": "code",
   "execution_count": 141,
   "id": "0de310bc",
   "metadata": {},
   "outputs": [
    {
     "data": {
      "text/html": [
       "<div>\n",
       "<style scoped>\n",
       "    .dataframe tbody tr th:only-of-type {\n",
       "        vertical-align: middle;\n",
       "    }\n",
       "\n",
       "    .dataframe tbody tr th {\n",
       "        vertical-align: top;\n",
       "    }\n",
       "\n",
       "    .dataframe thead th {\n",
       "        text-align: right;\n",
       "    }\n",
       "</style>\n",
       "<table border=\"1\" class=\"dataframe\">\n",
       "  <thead>\n",
       "    <tr style=\"text-align: right;\">\n",
       "      <th></th>\n",
       "      <th>district</th>\n",
       "      <th>total_amount</th>\n",
       "      <th>latitude</th>\n",
       "      <th>longitude</th>\n",
       "    </tr>\n",
       "  </thead>\n",
       "  <tbody>\n",
       "    <tr>\n",
       "      <th>0</th>\n",
       "      <td>ABERDEEN HK</td>\n",
       "      <td>2496656.75</td>\n",
       "      <td>22.248907</td>\n",
       "      <td>114.156421</td>\n",
       "    </tr>\n",
       "    <tr>\n",
       "      <th>1</th>\n",
       "      <td>ADMIRALTY HK</td>\n",
       "      <td>393909.25</td>\n",
       "      <td>22.278616</td>\n",
       "      <td>114.166269</td>\n",
       "    </tr>\n",
       "    <tr>\n",
       "      <th>2</th>\n",
       "      <td>AP LEI CHAU HK</td>\n",
       "      <td>3852665.75</td>\n",
       "      <td>22.239935</td>\n",
       "      <td>114.154524</td>\n",
       "    </tr>\n",
       "    <tr>\n",
       "      <th>3</th>\n",
       "      <td>BRAEMAR HILL HK</td>\n",
       "      <td>1841406.50</td>\n",
       "      <td>22.286418</td>\n",
       "      <td>114.206442</td>\n",
       "    </tr>\n",
       "    <tr>\n",
       "      <th>4</th>\n",
       "      <td>CAUSEWAY BAY HK</td>\n",
       "      <td>1090629.50</td>\n",
       "      <td>22.282078</td>\n",
       "      <td>114.189159</td>\n",
       "    </tr>\n",
       "  </tbody>\n",
       "</table>\n",
       "</div>"
      ],
      "text/plain": [
       "          district  total_amount   latitude   longitude\n",
       "0      ABERDEEN HK    2496656.75  22.248907  114.156421\n",
       "1     ADMIRALTY HK     393909.25  22.278616  114.166269\n",
       "2   AP LEI CHAU HK    3852665.75  22.239935  114.154524\n",
       "3  BRAEMAR HILL HK    1841406.50  22.286418  114.206442\n",
       "4  CAUSEWAY BAY HK    1090629.50  22.282078  114.189159"
      ]
     },
     "execution_count": 141,
     "metadata": {},
     "output_type": "execute_result"
    }
   ],
   "source": [
    "amount.head()"
   ]
  },
  {
   "cell_type": "code",
   "execution_count": 142,
   "id": "efd628c3",
   "metadata": {},
   "outputs": [],
   "source": [
    "combine = trans.merge(amount,how='left',left_on=['latitude','longitude','district'],right_on=['latitude','longitude','district'])"
   ]
  },
  {
   "cell_type": "code",
   "execution_count": 143,
   "id": "f92f1697",
   "metadata": {},
   "outputs": [],
   "source": [
    "combine['average_order_price'] = combine['total_amount']/combine['trans_count']"
   ]
  },
  {
   "cell_type": "code",
   "execution_count": 144,
   "id": "157d4dee",
   "metadata": {},
   "outputs": [],
   "source": [
    "combine.to_csv('tran_amount_info_hktv.csv')"
   ]
  },
  {
   "cell_type": "code",
   "execution_count": 10,
   "id": "4cf54ccc",
   "metadata": {},
   "outputs": [],
   "source": [
    "overall_transaction = pd.read_csv('/Users/tsechiho/Desktop/5005 final project B/transaction_data.csv',low_memory=False)"
   ]
  },
  {
   "cell_type": "code",
   "execution_count": 11,
   "id": "5cc79cac",
   "metadata": {},
   "outputs": [],
   "source": [
    "district_list = overall_transaction.dropna().district.unique()"
   ]
  },
  {
   "cell_type": "code",
   "execution_count": 12,
   "id": "88b2031b",
   "metadata": {},
   "outputs": [
    {
     "data": {
      "text/plain": [
       "array(['HUNG HOM KLN', 'LAM TIN KLN', 'SAI WAN HO HK', nan, 'TAI O NT',\n",
       "       'KOWLOON CITY KLN', 'SAU MAU PING KLN', 'KOWLOON TONG KLN',\n",
       "       'BRAEMAR HILL HK', 'REPULSE BAY HK', 'MA WAN NT', 'YUEN LONG NT',\n",
       "       'MA ON SHAN NT', 'TO KWA WAN KLN', 'CHAI WAN HK', 'KWAI CHUNG NT',\n",
       "       'DISCOVERY BAY NT', 'TSUEN WAN WEST NT', 'TAI PO NT',\n",
       "       'YAU MA TEI KLN', 'YAU TONG KLN', 'TSEUNG KWAN O NT',\n",
       "       'LAI CHI KOK KLN', 'TUEN MUN NT', 'HAPPY VALLEY HK',\n",
       "       'HO MAN TIN KLN', 'SAN PO KONG KLN', 'LOHAS PARK NT',\n",
       "       'QUARRY BAY HK', 'MID-LEVELS HK', 'AP LEI CHAU HK', 'CENTRAL HK',\n",
       "       'SHAM SHUI PO KLN', 'KENNEDY TOWN HK', 'SHEUNG WAN HK',\n",
       "       'TAI PO KAU NT', 'WAN CHAI HK', 'TSUEN WAN NT', 'FANLING NT',\n",
       "       'SIU SAI WAN HK', 'TIN SHUI WAI NT', 'TAI WAI NT', 'TSING YI NT',\n",
       "       'SAI KUNG NT', 'SHAM TSENG NT', 'NORTH POINT HK', 'TUNG CHUNG NT',\n",
       "       'TUEN MUN TAI LAM NT', 'DIAMOND HILL KLN', 'CHOI WAN KLN',\n",
       "       'TIN HAU HK', 'KOWLOON BAY KLN', 'TAI KOK TSUI KLN',\n",
       "       'TAI PO MARKET NT', 'HENG FA CHUEN HK', 'JORDAN KLN',\n",
       "       'SHUN LEE KLN', 'FO TAN NT', 'TAI KOO HK', 'HANG HAU NT',\n",
       "       'KWUN TONG KLN', 'TIU KENG LENG NT', 'SAI WAN HK',\n",
       "       'TSZ WAN SHAN KLN', 'KAM TIN NT', 'MUI WO NT', 'MEI FOO',\n",
       "       'POK FU LAM HK', 'SAN TIN NT', 'LAI KING NT', 'SHATIN NT',\n",
       "       'SHAU KEI WAN HK', 'TAI WO NT', 'CAUSEWAY BAY HK',\n",
       "       'WONG TAI SIN KLN', 'KOWLOON STATION KLN', 'SIU LAM NT',\n",
       "       'SHEK KIP MEI KLN', 'SHOUSON HILL HK', 'ABERDEEN HK',\n",
       "       'CHEUNG SHA WAN KLN', 'UNIVERSITY NT', 'THE PEAK HK',\n",
       "       'HA TSUEN NT', 'PRINCE EDWARD KLN', 'PO LAM NT', 'SHEUNG SHUI NT',\n",
       "       'FORTRESS HILL HK', 'KWAI HING NT', 'TAI HANG HK', 'MONGKOK KLN',\n",
       "       'LOK FU KLN', 'SAI YING PUN HK', 'ADMIRALTY HK',\n",
       "       'TSIM SHA TSUI KLN', 'CHOI HUNG KLN', 'HUNG SHUI KIU NT',\n",
       "       'KWUN TONG IND AREA KLN', 'HUNG HOM BAY KLN', 'NGAU TAU KOK KLN',\n",
       "       'STANLEY HK', 'LANTAU ISLAND NT', 'TAI TAM HK', 'LAM TEI NT',\n",
       "       'LAU FAU SHAN NT', 'WONG CHUK HANG HK', 'CHUNG HOM KOK HK',\n",
       "       'KWU TUNG', 'TING KAU NT', 'PING SHAN NT', 'SHEK O HK',\n",
       "       'SHEK TONG TSUI HK'], dtype=object)"
      ]
     },
     "execution_count": 12,
     "metadata": {},
     "output_type": "execute_result"
    }
   ],
   "source": [
    "overall_transaction.district.unique()\n",
    "\n"
   ]
  },
  {
   "cell_type": "code",
   "execution_count": 14,
   "id": "0388c0a8",
   "metadata": {},
   "outputs": [],
   "source": [
    "import os \n",
    "import pandas as pd \n",
    "import re\n",
    "from geopy.geocoders import ArcGIS\n",
    "from geopy.geocoders import Nominatim\n",
    "import time \n",
    "\n",
    "geolocator_gis = ArcGIS(timeout=5, user_agent = \"my-application\")\n",
    "\n",
    "district = []\n",
    "latitude_gis,longitude_gis = [], []\n",
    "replace_word = ['HK', 'NT', 'KLN']\n",
    "\n",
    "\n",
    "for _ in overall_transaction.district.unique():\n",
    "    if type(_)==str:\n",
    "        district.append(_)\n",
    "        toPrint = _\n",
    "\n",
    "    \n",
    "        for word in replace_word:\n",
    "            toPrint = toPrint.replace(word, \"\")\n",
    "\n",
    "        location_gis = geolocator_gis.geocode(('Hong Kong'+','+ toPrint))\n",
    "        latitude_gis.append(location_gis.latitude)\n",
    "        longitude_gis.append(location_gis.longitude)\n",
    "    \n",
    "# toPrint = \"Hello Ugly Guy, Good To See You.\"\n",
    "    \n",
    "# print(RemoveBannedWords(toPrint,bannedWord))"
   ]
  },
  {
   "cell_type": "code",
   "execution_count": 15,
   "id": "763486bd",
   "metadata": {},
   "outputs": [],
   "source": [
    "map_district = pd.DataFrame({'district_map':district,'latitude':latitude_gis,'longitude':longitude_gis})"
   ]
  },
  {
   "cell_type": "code",
   "execution_count": 16,
   "id": "fade76b0",
   "metadata": {},
   "outputs": [],
   "source": [
    "#### Filtering out those with the district information\n",
    "overall_transaction = overall_transaction[overall_transaction['district'].isin(list(map_district.district_map))]"
   ]
  },
  {
   "cell_type": "code",
   "execution_count": 17,
   "id": "597de6dc",
   "metadata": {},
   "outputs": [
    {
     "data": {
      "text/html": [
       "<div>\n",
       "<style scoped>\n",
       "    .dataframe tbody tr th:only-of-type {\n",
       "        vertical-align: middle;\n",
       "    }\n",
       "\n",
       "    .dataframe tbody tr th {\n",
       "        vertical-align: top;\n",
       "    }\n",
       "\n",
       "    .dataframe thead th {\n",
       "        text-align: right;\n",
       "    }\n",
       "</style>\n",
       "<table border=\"1\" class=\"dataframe\">\n",
       "  <thead>\n",
       "    <tr style=\"text-align: right;\">\n",
       "      <th></th>\n",
       "      <th>Unnamed: 0</th>\n",
       "      <th>hktv_ad_id</th>\n",
       "      <th>order_number</th>\n",
       "      <th>additional_parent_order</th>\n",
       "      <th>order_date</th>\n",
       "      <th>order_time_range</th>\n",
       "      <th>delivery_date</th>\n",
       "      <th>delivery_timeslot</th>\n",
       "      <th>app_type</th>\n",
       "      <th>device_type</th>\n",
       "      <th>...</th>\n",
       "      <th>housing_type</th>\n",
       "      <th>sku_id</th>\n",
       "      <th>primary_sku_id</th>\n",
       "      <th>bundle_set</th>\n",
       "      <th>quantity</th>\n",
       "      <th>total_price</th>\n",
       "      <th>primary_category</th>\n",
       "      <th>primary_category_name_en</th>\n",
       "      <th>primary_category_name_chi</th>\n",
       "      <th>primary_store</th>\n",
       "    </tr>\n",
       "  </thead>\n",
       "  <tbody>\n",
       "    <tr>\n",
       "      <th>0</th>\n",
       "      <td>0</td>\n",
       "      <td>pk1SBdSI47UwZCkt2y1dT6+pOz5pjbc+NktWE0yVybU=</td>\n",
       "      <td>R+ZB91jGw/kXvcd3wYusIRdcMsJJz4FIfUOu9jz0ZzY=</td>\n",
       "      <td>NaN</td>\n",
       "      <td>2022-04-25</td>\n",
       "      <td>00-09</td>\n",
       "      <td>2022-04-26</td>\n",
       "      <td>14:00 - 18:00</td>\n",
       "      <td>MAIN</td>\n",
       "      <td>iOS</td>\n",
       "      <td>...</td>\n",
       "      <td>Commercial</td>\n",
       "      <td>ZPX40VwNASYCC+oiBs2PHXlGxAHknIDLyYgTjCFC2Io=</td>\n",
       "      <td>ZPX40VwNASYCC+oiBs2PHXlGxAHknIDLyYgTjCFC2Io=</td>\n",
       "      <td>NaN</td>\n",
       "      <td>4</td>\n",
       "      <td>300 - 400</td>\n",
       "      <td>AA11157505001</td>\n",
       "      <td>Supermarket</td>\n",
       "      <td>超級市場</td>\n",
       "      <td>VlCZChBA0l+RDNnLMgLBQzsgYPKMfgDwF/XM7iS4RAk=</td>\n",
       "    </tr>\n",
       "    <tr>\n",
       "      <th>1</th>\n",
       "      <td>1</td>\n",
       "      <td>IiXkiU5DQMeKXoUOb3ULSyFK0oGzkgblJBRMpW4VK9I=</td>\n",
       "      <td>j3MpPZ6XfkGTH4rhviw64an3KVg6kLWCobBbGtYCg3A=</td>\n",
       "      <td>NaN</td>\n",
       "      <td>2022-04-25</td>\n",
       "      <td>00-09</td>\n",
       "      <td>2022-04-26</td>\n",
       "      <td>18:00 - 21:00</td>\n",
       "      <td>MAIN</td>\n",
       "      <td>iOS</td>\n",
       "      <td>...</td>\n",
       "      <td>Private</td>\n",
       "      <td>bcxGkFLCckAmH2PfDbBjPH0DfiGvKTV5sm5iLxBJS3M=</td>\n",
       "      <td>bcxGkFLCckAmH2PfDbBjPH0DfiGvKTV5sm5iLxBJS3M=</td>\n",
       "      <td>NaN</td>\n",
       "      <td>2</td>\n",
       "      <td>100 - 200</td>\n",
       "      <td>AA11112520001</td>\n",
       "      <td>Supermarket</td>\n",
       "      <td>超級市場</td>\n",
       "      <td>fC2GnyJOelWByD9DStzXMrW0uaf3OtT6ZXT6Q7LTWb0=</td>\n",
       "    </tr>\n",
       "    <tr>\n",
       "      <th>2</th>\n",
       "      <td>2</td>\n",
       "      <td>wjbHlaR0qDPjRPk4tX2O5/b8AYpWrG9RMERzDY3T1So=</td>\n",
       "      <td>OAi0xg8ZxeoONOOSRc3P8/4Oty8n6JZZLs/SPVV4Ndk=</td>\n",
       "      <td>NaN</td>\n",
       "      <td>2022-04-25</td>\n",
       "      <td>00-09</td>\n",
       "      <td>2022-04-26</td>\n",
       "      <td>14:00 - 18:00</td>\n",
       "      <td>MAIN</td>\n",
       "      <td>Android</td>\n",
       "      <td>...</td>\n",
       "      <td>Private</td>\n",
       "      <td>bo6l85jOpzTq58yEsTusr7A43/e+j4fJNvkkKsK9eXo=</td>\n",
       "      <td>bo6l85jOpzTq58yEsTusr7A43/e+j4fJNvkkKsK9eXo=</td>\n",
       "      <td>NaN</td>\n",
       "      <td>1</td>\n",
       "      <td>34 - 36</td>\n",
       "      <td>AA11481000001</td>\n",
       "      <td>Supermarket</td>\n",
       "      <td>超級市場</td>\n",
       "      <td>2EoJEoS+J2rqb4XEtCF06gcmgKztNCT1y6iuKzxYMNc=</td>\n",
       "    </tr>\n",
       "    <tr>\n",
       "      <th>4</th>\n",
       "      <td>4</td>\n",
       "      <td>7smjP1PSh0a8RGSOYc2j51MKIph05c2Jw1ikhvs+EBE=</td>\n",
       "      <td>r5qHS/riTMKQ9EeW9fPOEhoG0fJctHyMlaHBqfPssvs=</td>\n",
       "      <td>TiaRqiRHCvQxT1PBmtn5NkPX/MBK2U+DbQIEIqtduOU=</td>\n",
       "      <td>2022-04-25</td>\n",
       "      <td>00-09</td>\n",
       "      <td>2022-04-26</td>\n",
       "      <td>10:00 - 14:00</td>\n",
       "      <td>MAIN</td>\n",
       "      <td>NaN</td>\n",
       "      <td>...</td>\n",
       "      <td>Private</td>\n",
       "      <td>yciGnPJQQUbfLKdlrzQZVixWUUmPqZgx60YxWy/wkJI=</td>\n",
       "      <td>yciGnPJQQUbfLKdlrzQZVixWUUmPqZgx60YxWy/wkJI=</td>\n",
       "      <td>NaN</td>\n",
       "      <td>1</td>\n",
       "      <td>32 - 34</td>\n",
       "      <td>AA11301030001</td>\n",
       "      <td>Supermarket</td>\n",
       "      <td>超級市場</td>\n",
       "      <td>REQDdZjOenENoO35RPJNxjVKmvFc9egZHCtzZlXDUQQ=</td>\n",
       "    </tr>\n",
       "    <tr>\n",
       "      <th>5</th>\n",
       "      <td>5</td>\n",
       "      <td>hg07rS6WKBUFAJbCTbyqf1LFWnt0Gfw0FzxxkZuSYxU=</td>\n",
       "      <td>ICHlMWhA2Utt4bU8hSVATGgAqsd8vsqc0zxoRJDtrrs=</td>\n",
       "      <td>NaN</td>\n",
       "      <td>2022-04-25</td>\n",
       "      <td>00-09</td>\n",
       "      <td>2022-04-26</td>\n",
       "      <td>14:00 - 18:00</td>\n",
       "      <td>MAIN</td>\n",
       "      <td>iOS</td>\n",
       "      <td>...</td>\n",
       "      <td>Private</td>\n",
       "      <td>QPC+iuMiJAzcYRRM28pTWQNSwi10rCJjXf3SC1nJE4A=</td>\n",
       "      <td>QPC+iuMiJAzcYRRM28pTWQNSwi10rCJjXf3SC1nJE4A=</td>\n",
       "      <td>NaN</td>\n",
       "      <td>1</td>\n",
       "      <td>100 - 200</td>\n",
       "      <td>AA16280510001</td>\n",
       "      <td>Skincare &amp; Makeup</td>\n",
       "      <td>護膚化妝</td>\n",
       "      <td>NnDcOAEB7hvDVH3R+AITo2JcQCF2LQSK0TtVdpHqbv8=</td>\n",
       "    </tr>\n",
       "  </tbody>\n",
       "</table>\n",
       "<p>5 rows × 26 columns</p>\n",
       "</div>"
      ],
      "text/plain": [
       "   Unnamed: 0                                    hktv_ad_id  \\\n",
       "0           0  pk1SBdSI47UwZCkt2y1dT6+pOz5pjbc+NktWE0yVybU=   \n",
       "1           1  IiXkiU5DQMeKXoUOb3ULSyFK0oGzkgblJBRMpW4VK9I=   \n",
       "2           2  wjbHlaR0qDPjRPk4tX2O5/b8AYpWrG9RMERzDY3T1So=   \n",
       "4           4  7smjP1PSh0a8RGSOYc2j51MKIph05c2Jw1ikhvs+EBE=   \n",
       "5           5  hg07rS6WKBUFAJbCTbyqf1LFWnt0Gfw0FzxxkZuSYxU=   \n",
       "\n",
       "                                   order_number  \\\n",
       "0  R+ZB91jGw/kXvcd3wYusIRdcMsJJz4FIfUOu9jz0ZzY=   \n",
       "1  j3MpPZ6XfkGTH4rhviw64an3KVg6kLWCobBbGtYCg3A=   \n",
       "2  OAi0xg8ZxeoONOOSRc3P8/4Oty8n6JZZLs/SPVV4Ndk=   \n",
       "4  r5qHS/riTMKQ9EeW9fPOEhoG0fJctHyMlaHBqfPssvs=   \n",
       "5  ICHlMWhA2Utt4bU8hSVATGgAqsd8vsqc0zxoRJDtrrs=   \n",
       "\n",
       "                        additional_parent_order  order_date order_time_range  \\\n",
       "0                                           NaN  2022-04-25            00-09   \n",
       "1                                           NaN  2022-04-25            00-09   \n",
       "2                                           NaN  2022-04-25            00-09   \n",
       "4  TiaRqiRHCvQxT1PBmtn5NkPX/MBK2U+DbQIEIqtduOU=  2022-04-25            00-09   \n",
       "5                                           NaN  2022-04-25            00-09   \n",
       "\n",
       "  delivery_date delivery_timeslot app_type device_type  ... housing_type  \\\n",
       "0    2022-04-26     14:00 - 18:00     MAIN         iOS  ...   Commercial   \n",
       "1    2022-04-26     18:00 - 21:00     MAIN         iOS  ...      Private   \n",
       "2    2022-04-26     14:00 - 18:00     MAIN     Android  ...      Private   \n",
       "4    2022-04-26     10:00 - 14:00     MAIN         NaN  ...      Private   \n",
       "5    2022-04-26     14:00 - 18:00     MAIN         iOS  ...      Private   \n",
       "\n",
       "                                         sku_id  \\\n",
       "0  ZPX40VwNASYCC+oiBs2PHXlGxAHknIDLyYgTjCFC2Io=   \n",
       "1  bcxGkFLCckAmH2PfDbBjPH0DfiGvKTV5sm5iLxBJS3M=   \n",
       "2  bo6l85jOpzTq58yEsTusr7A43/e+j4fJNvkkKsK9eXo=   \n",
       "4  yciGnPJQQUbfLKdlrzQZVixWUUmPqZgx60YxWy/wkJI=   \n",
       "5  QPC+iuMiJAzcYRRM28pTWQNSwi10rCJjXf3SC1nJE4A=   \n",
       "\n",
       "                                 primary_sku_id bundle_set quantity  \\\n",
       "0  ZPX40VwNASYCC+oiBs2PHXlGxAHknIDLyYgTjCFC2Io=        NaN        4   \n",
       "1  bcxGkFLCckAmH2PfDbBjPH0DfiGvKTV5sm5iLxBJS3M=        NaN        2   \n",
       "2  bo6l85jOpzTq58yEsTusr7A43/e+j4fJNvkkKsK9eXo=        NaN        1   \n",
       "4  yciGnPJQQUbfLKdlrzQZVixWUUmPqZgx60YxWy/wkJI=        NaN        1   \n",
       "5  QPC+iuMiJAzcYRRM28pTWQNSwi10rCJjXf3SC1nJE4A=        NaN        1   \n",
       "\n",
       "  total_price primary_category primary_category_name_en  \\\n",
       "0   300 - 400    AA11157505001              Supermarket   \n",
       "1   100 - 200    AA11112520001              Supermarket   \n",
       "2     34 - 36    AA11481000001              Supermarket   \n",
       "4     32 - 34    AA11301030001              Supermarket   \n",
       "5   100 - 200    AA16280510001        Skincare & Makeup   \n",
       "\n",
       "  primary_category_name_chi                                 primary_store  \n",
       "0                      超級市場  VlCZChBA0l+RDNnLMgLBQzsgYPKMfgDwF/XM7iS4RAk=  \n",
       "1                      超級市場  fC2GnyJOelWByD9DStzXMrW0uaf3OtT6ZXT6Q7LTWb0=  \n",
       "2                      超級市場  2EoJEoS+J2rqb4XEtCF06gcmgKztNCT1y6iuKzxYMNc=  \n",
       "4                      超級市場  REQDdZjOenENoO35RPJNxjVKmvFc9egZHCtzZlXDUQQ=  \n",
       "5                      護膚化妝  NnDcOAEB7hvDVH3R+AITo2JcQCF2LQSK0TtVdpHqbv8=  \n",
       "\n",
       "[5 rows x 26 columns]"
      ]
     },
     "execution_count": 17,
     "metadata": {},
     "output_type": "execute_result"
    }
   ],
   "source": [
    "overall_transaction.head()"
   ]
  },
  {
   "cell_type": "code",
   "execution_count": null,
   "id": "e2304a5e",
   "metadata": {},
   "outputs": [],
   "source": [
    "overall_transaction['time_lag_delivery'] = overall_transaction.apply(lambda x:)"
   ]
  },
  {
   "cell_type": "code",
   "execution_count": 22,
   "id": "74abda99",
   "metadata": {},
   "outputs": [],
   "source": [
    "#### breaking down by the district as the total percentage of the transaction\n",
    "\n",
    "district_order = overall_transaction.groupby('district')['order_number'].count().to_frame()"
   ]
  },
  {
   "cell_type": "code",
   "execution_count": 27,
   "id": "ee6d0e60",
   "metadata": {},
   "outputs": [],
   "source": [
    "district_order['percent_order'] = district_order['order_number']/district_order.order_number.sum()"
   ]
  },
  {
   "cell_type": "code",
   "execution_count": 33,
   "id": "1da23296",
   "metadata": {},
   "outputs": [],
   "source": [
    "district_order.merge(map_district,how='left',left_on='district',right_on='district_map').to_csv('overall_order_distribution.csv')"
   ]
  },
  {
   "cell_type": "code",
   "execution_count": 54,
   "id": "4f21180a",
   "metadata": {},
   "outputs": [],
   "source": [
    "#### user breakdown\n",
    "\n",
    "user = pd.read_csv('/Users/tsechiho/Desktop/5005 final project B/user_data.csv')"
   ]
  },
  {
   "cell_type": "code",
   "execution_count": 68,
   "id": "bc9ae2fe",
   "metadata": {},
   "outputs": [
    {
     "data": {
      "text/plain": [
       "674.5"
      ]
     },
     "execution_count": 68,
     "metadata": {},
     "output_type": "execute_result"
    }
   ],
   "source": [
    "import numpy as np \n",
    "np.mean([float(_) for _ in user.total_purchase_amount[0].split('-')])"
   ]
  },
  {
   "cell_type": "code",
   "execution_count": 73,
   "id": "b6f3fa85",
   "metadata": {},
   "outputs": [],
   "source": [
    "user =user[['hktv_ad_id','gender','age_range','total_purchase_amount','income_range','is_app_user', 'is_web_user', 'is_o2o_user']]"
   ]
  },
  {
   "cell_type": "code",
   "execution_count": 75,
   "id": "9a6c7780",
   "metadata": {},
   "outputs": [],
   "source": [
    "user = user.dropna()"
   ]
  },
  {
   "cell_type": "code",
   "execution_count": 78,
   "id": "007591cb",
   "metadata": {},
   "outputs": [],
   "source": [
    "age_filter = ['BELOW_12', 'AGERANGE_12_14','AGERANGE_15_19']\n",
    "\n",
    "df[~df.country.isin(countries_to_keep)]"
   ]
  },
  {
   "cell_type": "code",
   "execution_count": 83,
   "id": "9a1cc9b0",
   "metadata": {},
   "outputs": [],
   "source": [
    "#### Filtering out those with the district information\n",
    "user = user[~user['age_range'].isin(age_filter)]"
   ]
  },
  {
   "cell_type": "code",
   "execution_count": 86,
   "id": "c54992dc",
   "metadata": {
    "scrolled": true
   },
   "outputs": [
    {
     "name": "stderr",
     "output_type": "stream",
     "text": [
      "/var/folders/y4/c24t1pjd6d9fbmygr2ygkgtc0000gn/T/ipykernel_2124/4209890593.py:1: SettingWithCopyWarning: \n",
      "A value is trying to be set on a copy of a slice from a DataFrame.\n",
      "Try using .loc[row_indexer,col_indexer] = value instead\n",
      "\n",
      "See the caveats in the documentation: https://pandas.pydata.org/pandas-docs/stable/user_guide/indexing.html#returning-a-view-versus-a-copy\n",
      "  user['total_purchase_amount'] = user.total_purchase_amount.apply(lambda x : np.mean([float(_) for _ in x.split('-')]))\n"
     ]
    }
   ],
   "source": [
    "user['total_purchase_amount'] = user.total_purchase_amount.apply(lambda x : np.mean([float(_) for _ in x.split('-')]))"
   ]
  },
  {
   "cell_type": "code",
   "execution_count": 105,
   "id": "b15445a4",
   "metadata": {},
   "outputs": [],
   "source": [
    "user.to_csv('user_info_clean.csv')"
   ]
  },
  {
   "cell_type": "code",
   "execution_count": 99,
   "id": "025495e1",
   "metadata": {},
   "outputs": [
    {
     "data": {
      "text/plain": [
       "age_range\n",
       "AGERANGE_18_25      8901.592088\n",
       "AGERANGE_20_25      7607.608084\n",
       "AGERANGE_26_34     14429.827516\n",
       "AGERANGE_35_44     16311.520550\n",
       "AGERANGE_45_55     13262.020724\n",
       "AGERANGE_55plus    10608.476462\n",
       "Name: total_purchase_amount, dtype: float64"
      ]
     },
     "execution_count": 99,
     "metadata": {},
     "output_type": "execute_result"
    }
   ],
   "source": [
    "user.groupby('age_range').total_purchase_amount.mean()"
   ]
  },
  {
   "cell_type": "code",
   "execution_count": 100,
   "id": "0df438fd",
   "metadata": {},
   "outputs": [
    {
     "data": {
      "text/plain": [
       "age_range\n",
       "AGERANGE_18_25      39028\n",
       "AGERANGE_20_25      84092\n",
       "AGERANGE_26_34     219577\n",
       "AGERANGE_35_44     175618\n",
       "AGERANGE_45_55      93489\n",
       "AGERANGE_55plus     39935\n",
       "Name: hktv_ad_id, dtype: int64"
      ]
     },
     "execution_count": 100,
     "metadata": {},
     "output_type": "execute_result"
    }
   ],
   "source": [
    "user.groupby('age_range')['hktv_ad_id'].count()"
   ]
  },
  {
   "cell_type": "code",
   "execution_count": 102,
   "id": "5f31d1b9",
   "metadata": {},
   "outputs": [
    {
     "data": {
      "text/plain": [
       "age_range\n",
       "AGERANGE_18_25      27510\n",
       "AGERANGE_20_25      56245\n",
       "AGERANGE_26_34     157448\n",
       "AGERANGE_35_44     122960\n",
       "AGERANGE_45_55      58342\n",
       "AGERANGE_55plus     20735\n",
       "Name: is_app_user, dtype: int64"
      ]
     },
     "execution_count": 102,
     "metadata": {},
     "output_type": "execute_result"
    }
   ],
   "source": [
    "user.groupby('age_range')['is_app_user'].sum()"
   ]
  },
  {
   "cell_type": "code",
   "execution_count": 103,
   "id": "a508dec5",
   "metadata": {},
   "outputs": [
    {
     "data": {
      "text/plain": [
       "age_range\n",
       "AGERANGE_18_25     13865\n",
       "AGERANGE_20_25     26304\n",
       "AGERANGE_26_34     62166\n",
       "AGERANGE_35_44     50018\n",
       "AGERANGE_45_55     27749\n",
       "AGERANGE_55plus    10209\n",
       "Name: is_web_user, dtype: int64"
      ]
     },
     "execution_count": 103,
     "metadata": {},
     "output_type": "execute_result"
    }
   ],
   "source": [
    "user.groupby('age_range')['is_web_user'].sum()"
   ]
  },
  {
   "cell_type": "code",
   "execution_count": 104,
   "id": "4b86127a",
   "metadata": {},
   "outputs": [
    {
     "data": {
      "text/plain": [
       "age_range\n",
       "AGERANGE_18_25     10121\n",
       "AGERANGE_20_25     22034\n",
       "AGERANGE_26_34     80939\n",
       "AGERANGE_35_44     71815\n",
       "AGERANGE_45_55     38962\n",
       "AGERANGE_55plus    16563\n",
       "Name: is_o2o_user, dtype: int64"
      ]
     },
     "execution_count": 104,
     "metadata": {},
     "output_type": "execute_result"
    }
   ],
   "source": [
    "user.groupby('age_range')['is_o2o_user'].sum()"
   ]
  },
  {
   "cell_type": "code",
   "execution_count": 115,
   "id": "be80812d",
   "metadata": {},
   "outputs": [
    {
     "name": "stdout",
     "output_type": "stream",
     "text": [
      "/Users/tsechiho/Desktop/5005 final project B/product_ana/tissue.csv\n",
      "/Users/tsechiho/Desktop/5005 final project B/product_ana/shampoo.csv\n",
      "/Users/tsechiho/Desktop/5005 final project B/product_ana/laundry_detergent.csv\n",
      "/Users/tsechiho/Desktop/5005 final project B/product_ana/rice.csv\n",
      "/Users/tsechiho/Desktop/5005 final project B/product_ana/Cold_flu_medicine.csv\n",
      "/Users/tsechiho/Desktop/5005 final project B/product_ana/Eye_care_product.csv\n",
      "/Users/tsechiho/Desktop/5005 final project B/product_ana/oil.csv\n",
      "/Users/tsechiho/Desktop/5005 final project B/product_ana/bodywash.csv\n"
     ]
    }
   ],
   "source": [
    "import glob, os\n",
    "\n",
    "for file in glob.glob(\"/Users/tsechiho/Desktop/5005 final project B/product_ana/*.csv\"):\n",
    "    print(file)\n",
    "    \n",
    "    name = file.split('/')[-1].split('.')[0]\n",
    "    \n",
    "    if name=='tissue':\n",
    "        df = pd.read_csv(file)\n",
    "        df['product'] = name\n",
    "    else:\n",
    "        inter = pd.read_csv(file)\n",
    "        inter['product'] = name\n",
    "        df = pd.concat([df, inter])\n",
    "\n"
   ]
  },
  {
   "cell_type": "code",
   "execution_count": 121,
   "id": "bc11fd9a",
   "metadata": {},
   "outputs": [],
   "source": [
    "df.columns = ['date','rolling_7_day','recurring_product']"
   ]
  },
  {
   "cell_type": "code",
   "execution_count": 124,
   "id": "ce1eabf7",
   "metadata": {},
   "outputs": [],
   "source": [
    "df = df.dropna()"
   ]
  },
  {
   "cell_type": "code",
   "execution_count": 126,
   "id": "2b4be473",
   "metadata": {},
   "outputs": [],
   "source": [
    "df.to_csv('product_analysis_tableau.csv')"
   ]
  }
 ],
 "metadata": {
  "kernelspec": {
   "display_name": "Python 3 (ipykernel)",
   "language": "python",
   "name": "python3"
  },
  "language_info": {
   "codemirror_mode": {
    "name": "ipython",
    "version": 3
   },
   "file_extension": ".py",
   "mimetype": "text/x-python",
   "name": "python",
   "nbconvert_exporter": "python",
   "pygments_lexer": "ipython3",
   "version": "3.8.3"
  }
 },
 "nbformat": 4,
 "nbformat_minor": 5
}
