{
 "cells": [
  {
   "cell_type": "code",
   "execution_count": null,
   "metadata": {},
   "outputs": [],
   "source": [
    "\"\"\"\n",
    "CHEN Xiaolong\n",
    "2022-04-26\n",
    "finding products\n",
    "\"\"\"\n",
    "\n",
    "import pandas as pd\n",
    "import numpy as np\n",
    "import time, requests, ndjson\n",
    "\n",
    "token = \"eyJ4NXQiOiJNR05rTnpjeE1EQXdaamN3T0dOak16Sm1aV1ZtWW1NeE9UYzFOekJqWXpBM05tTXlZell3WmpKallqTmhOamM0T0RVM04yVTVaV0l6WW1SbFkyUmtaZyIsImtpZCI6Ik1HTmtOemN4TURBd1pqY3dPR05qTXpKbVpXVm1ZbU14T1RjMU56QmpZekEzTm1NeVl6WXdaakpqWWpOaE5qYzRPRFUzTjJVNVpXSXpZbVJsWTJSa1pnX1JTMjU2IiwiYWxnIjoiUlMyNTYifQ.eyJzdWIiOiJ4Y2hlbmZnQGNvbm5lY3QudXN0LmhrIiwiYXVkIjpbImdBcVFsX1d1N1dicUgwVENlNk1NYWFub0p1UWEiLCJodHRwczpcL1wvb3BlbmRhdGFiYW5rLmhrdHZtYWxsLmNvbSJdLCJuYmYiOjE2NTA4OTA0NDMsImF6cCI6ImdBcVFsX1d1N1dicUgwVENlNk1NYWFub0p1UWEiLCJzY29wZSI6Im9wZW5pZCIsImlzcyI6Imh0dHBzOlwvXC9hY2NvdW50cy1zc28uc2hvYWx0ZXIuY29tOjQ0M1wvb2F1dGgyXC90b2tlbiIsImdyb3VwcyI6WyJBcHBsaWNhdGlvblwvRGF0YSBCYW5rIiwiQXBwbGljYXRpb25cL0RhdGEgQmFuayBBUEkiLCJJbnRlcm5hbFwvZXZlcnlvbmUiXSwiZXhwIjoxNjUwOTc2ODQzLCJpYXQiOjE2NTA4OTA0NDMsImp0aSI6IjI5Yjc2YjM2LTFkZDQtNDExMC1iNDU5LWQ0MTQ5YWYwOWFjZSJ9.gKPRGQHq9QAAlKGGwRFWqB6_WxAC3le-_HDcArfRiir656O8XcXZf733vf57j9bh9HTUErERmkFTZP9MkE8DWVVnlC4YkaGZiVpR1iORfyqV_4qQvOWdn4iNaj0pj70BdbC7__FdjoKodvc-z5J1-3cUJSxJMmZcqs3X8olJBVANml4j4GQY6y39ht4o9T4N_5f2G2hzioMQs_FPcWtCUJJtDyQ4SFlHCxV0hlMXTwkBhE_0apYsNZVMSWpE5DJIcozKe_AxZDoPkqdED3w_qZcQ8VIige3Hj6ERk3r6z65crDuDUSsdDKXsf1uJjK3NxddErdv_70REA3Sf5LZTLQ\""
   ]
  },
  {
   "cell_type": "code",
   "execution_count": null,
   "metadata": {},
   "outputs": [],
   "source": [
    "products_df = pd.read_csv(\"../data/products.csv\")\n",
    "products_df[products_df[\"cat_names_en\"].str.contains(\"Hair Care > Shampoo\").fillna(False)].groupby(\"primary_category_code\").count().idxmax()[\"sku_id\"]"
   ]
  },
  {
   "cell_type": "code",
   "execution_count": null,
   "metadata": {},
   "outputs": [],
   "source": [
    "codes_shampoo = products_df[products_df[\"cat_names_en\"].str.contains(\"Hair Care > Shampoo\").fillna(False)][\"primary_category_code\"].unique()\n",
    "codes_body = products_df[products_df[\"cat_names_en\"].str.contains(\"Personal Care > Body Wash | Body Care > Body Wash\").fillna(False)][\"primary_category_code\"].unique()\n",
    "codes_tissue = products_df[products_df[\"cat_names_en\"].str.contains(\"Bathroom Tissue\").fillna(False)][\"primary_category_code\"].unique()\n",
    "codes_rice = products_df[products_df[\"cat_names_en\"].str.contains(\"Rice & Cooking Oil > Rice\").fillna(False)][\"primary_category_code\"].unique()\n",
    "codes_oil = products_df[products_df[\"cat_names_en\"].str.contains(\"Rice & Cooking Oil > Cooking Oil\").fillna(False)][\"primary_category_code\"].unique()\n",
    "codes_laundry = products_df[products_df[\"cat_names_en\"].str.contains(\"Laundry & Accessories > Washing > Laundry Detergents Liquids\").fillna(False)][\"primary_category_code\"].unique()\n",
    "\n",
    "max_code_shampoo = products_df[products_df[\"cat_names_en\"].str.contains(\"Hair Care > Shampoo\").fillna(False)].groupby(\"primary_category_code\").count().idxmax()[\"sku_id\"]\n",
    "max_code_body = products_df[products_df[\"cat_names_en\"].str.contains(\"Personal Care > Body Wash | Body Care > Body Wash\").fillna(False)].groupby(\"primary_category_code\").count().idxmax()[\"sku_id\"]\n",
    "max_code_tissue = products_df[products_df[\"cat_names_en\"].str.contains(\"Bathroom Tissue\").fillna(False)].groupby(\"primary_category_code\").count().idxmax()[\"sku_id\"]\n",
    "max_code_rice = products_df[products_df[\"cat_names_en\"].str.contains(\"Rice & Cooking Oil > Rice\").fillna(False)].groupby(\"primary_category_code\").count().idxmax()[\"sku_id\"]\n",
    "max_code_oil = products_df[products_df[\"cat_names_en\"].str.contains(\"Rice & Cooking Oil > Cooking Oil\").fillna(False)].groupby(\"primary_category_code\").count().idxmax()[\"sku_id\"]\n",
    "max_code_laundry = products_df[products_df[\"cat_names_en\"].str.contains(\"Laundry & Accessories > Washing > Laundry Detergents Liquids\").fillna(False)].groupby(\"primary_category_code\").count().idxmax()[\"sku_id\"]"
   ]
  },
  {
   "cell_type": "code",
   "execution_count": null,
   "metadata": {},
   "outputs": [],
   "source": [
    "code_dict = {\n",
    "    \"shampoo\": max_code_shampoo,\n",
    "    \"bodywash\": max_code_body,\n",
    "    \"tissue\": max_code_tissue,\n",
    "    \"rice\": max_code_rice,\n",
    "    \"oil\": max_code_oil,\n",
    "    \"laundry_detergent\": max_code_laundry\n",
    "}\n",
    "url = \"https://opendatabank-apigw.hktvmall.com/gw/api/v1/PublicSaleTransactionSimplified\"\n",
    "\n",
    "payload={\n",
    "    \"sys_take\": \"900000\",\n",
    "    \"sys_skip\": \"0\",\n",
    "    \"primary_category\": None\n",
    "}\n",
    "headers = {\n",
    "  'Authorization': f'Bearer {token}',\n",
    "  'Content-Type': 'application/json'\n",
    "}"
   ]
  },
  {
   "cell_type": "code",
   "execution_count": null,
   "metadata": {},
   "outputs": [],
   "source": [
    "import time\n",
    "for name, code in code_dict.items():\n",
    "    if name == \"laundry_detergent\":\n",
    "        payload[\"sys_take\"] = \"100000\"\n",
    "    else:\n",
    "        payload[\"sys_take\"] = \"900000\"\n",
    "    payload[\"primary_category\"] = code\n",
    "    response = requests.request(\"POST\", url, headers=headers, json=payload)\n",
    "    data_list = response.json(cls=ndjson.Decoder)\n",
    "    data_df = pd.DataFrame(data_list)\n",
    "    try:\n",
    "        data_df = data_df.drop([\"order_number\", \"primary_store\", \"hktv_ad_id\"], axis=1)\n",
    "    except:\n",
    "        pass\n",
    "    data_df.to_csv(f\"../data/{name}.csv\")\n",
    "    del data_list\n",
    "    del data_df\n",
    "    print(f\"finish: {name}\")\n",
    "    time.sleep(1)"
   ]
  }
 ],
 "metadata": {
  "language_info": {
   "name": "python"
  },
  "orig_nbformat": 4
 },
 "nbformat": 4,
 "nbformat_minor": 2
}
