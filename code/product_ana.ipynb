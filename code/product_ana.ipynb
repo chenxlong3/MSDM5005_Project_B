{
 "cells": [
  {
   "cell_type": "code",
   "execution_count": 1,
   "id": "cf66d3cf-6469-42ec-af94-f62aae853df3",
   "metadata": {},
   "outputs": [
    {
     "name": "stderr",
     "output_type": "stream",
     "text": [
      "/var/folders/11/0sjzwk0j4c7f2_s61k_48v180000gn/T/ipykernel_8255/1341534306.py:12: DtypeWarning: Columns (1) have mixed types.Specify dtype option on import or set low_memory=False.\n",
      "  exec(f'df{i}=pd.read_csv(filenames[i])')\n",
      "/var/folders/11/0sjzwk0j4c7f2_s61k_48v180000gn/T/ipykernel_8255/1341534306.py:12: DtypeWarning: Columns (1,7,17) have mixed types.Specify dtype option on import or set low_memory=False.\n",
      "  exec(f'df{i}=pd.read_csv(filenames[i])')\n",
      "/var/folders/11/0sjzwk0j4c7f2_s61k_48v180000gn/T/ipykernel_8255/1341534306.py:12: DtypeWarning: Columns (1,7,8,9,10,11,12,13,14,17) have mixed types.Specify dtype option on import or set low_memory=False.\n",
      "  exec(f'df{i}=pd.read_csv(filenames[i])')\n",
      "/var/folders/11/0sjzwk0j4c7f2_s61k_48v180000gn/T/ipykernel_8255/1341534306.py:12: DtypeWarning: Columns (1,7) have mixed types.Specify dtype option on import or set low_memory=False.\n",
      "  exec(f'df{i}=pd.read_csv(filenames[i])')\n"
     ]
    }
   ],
   "source": [
    "import numpy as np\n",
    "import pandas as pd\n",
    "import datetime\n",
    "# from datetime import timedelta\n",
    "import glob\n",
    "from matplotlib.pyplot import MultipleLocator\n",
    "import matplotlib.pyplot as plt\n",
    "\n",
    "path='/Users/heart_jf/Desktop/5005/finalB/target_product'\n",
    "filenames=glob.glob(path+'/*.csv')\n",
    "for i in range(len(filenames)):\n",
    "    exec(f'df{i}=pd.read_csv(filenames[i])')"
   ]
  },
  {
   "cell_type": "code",
   "execution_count": 50,
   "id": "f3dafef1-88ba-42d8-9daf-00ffc02a65ed",
   "metadata": {},
   "outputs": [],
   "source": [
    "df0=df0[df0.order_date>'2021-04-26']\n",
    "df1=df1[df1.order_date>'2021-04-26']\n",
    "df2=df2[df2.order_date>'2021-04-26']\n",
    "df3=df3[df3.order_date>'2021-04-26']\n",
    "df4=df4[df4.order_date>'2021-04-26']\n",
    "df5=df5[df5.order_date>'2021-04-26']\n",
    "df6=df6[df6.order_date>'2021-04-26']\n",
    "df7=df7[df7.order_date>'2021-04-26']\n",
    "df8=df8[df8.order_date>'2021-04-26']"
   ]
  },
  {
   "cell_type": "code",
   "execution_count": 51,
   "id": "4bd9dbad-1137-4ba4-bdcc-c48b84089cd9",
   "metadata": {},
   "outputs": [],
   "source": [
    "amount=df8.total_price.values.tolist()\n",
    "min_amount=[]\n",
    "max_amount=[]\n",
    "for i in range(len(amount)):\n",
    "    if amount[i]=='10000+':\n",
    "        min_amount.append(10000)\n",
    "        max_amount.append(10000)\n",
    "    elif amount[i]=='0':\n",
    "        min_amount.append(0)\n",
    "        min_amount.append(0)\n",
    "    else:\n",
    "        min_amount.append(float(amount[i].split('-')[0]))\n",
    "        # print(amount[i])\n",
    "        max_amount.append(float(amount[i].split('-')[1]))\n",
    "mean_amount=[(min_amount[i]+max_amount[i])/2 for i in range(len(amount))]\n",
    "df8['mean_amount']=mean_amount"
   ]
  },
  {
   "cell_type": "code",
   "execution_count": 52,
   "id": "3b9ed67d-d9eb-4b85-a33c-a2efbdf07930",
   "metadata": {},
   "outputs": [
    {
     "data": {
      "text/html": [
       "<div>\n",
       "<style scoped>\n",
       "    .dataframe tbody tr th:only-of-type {\n",
       "        vertical-align: middle;\n",
       "    }\n",
       "\n",
       "    .dataframe tbody tr th {\n",
       "        vertical-align: top;\n",
       "    }\n",
       "\n",
       "    .dataframe thead th {\n",
       "        text-align: right;\n",
       "    }\n",
       "</style>\n",
       "<table border=\"1\" class=\"dataframe\">\n",
       "  <thead>\n",
       "    <tr style=\"text-align: right;\">\n",
       "      <th></th>\n",
       "      <th>mean_amount</th>\n",
       "    </tr>\n",
       "    <tr>\n",
       "      <th>order_date</th>\n",
       "      <th></th>\n",
       "    </tr>\n",
       "  </thead>\n",
       "  <tbody>\n",
       "    <tr>\n",
       "      <th>2021-04-27</th>\n",
       "      <td>NaN</td>\n",
       "    </tr>\n",
       "    <tr>\n",
       "      <th>2021-04-28</th>\n",
       "      <td>NaN</td>\n",
       "    </tr>\n",
       "    <tr>\n",
       "      <th>2021-04-29</th>\n",
       "      <td>NaN</td>\n",
       "    </tr>\n",
       "    <tr>\n",
       "      <th>2021-04-30</th>\n",
       "      <td>NaN</td>\n",
       "    </tr>\n",
       "    <tr>\n",
       "      <th>2021-05-01</th>\n",
       "      <td>NaN</td>\n",
       "    </tr>\n",
       "    <tr>\n",
       "      <th>...</th>\n",
       "      <td>...</td>\n",
       "    </tr>\n",
       "    <tr>\n",
       "      <th>2022-04-22</th>\n",
       "      <td>78144.821429</td>\n",
       "    </tr>\n",
       "    <tr>\n",
       "      <th>2022-04-23</th>\n",
       "      <td>79807.892857</td>\n",
       "    </tr>\n",
       "    <tr>\n",
       "      <th>2022-04-24</th>\n",
       "      <td>81194.178571</td>\n",
       "    </tr>\n",
       "    <tr>\n",
       "      <th>2022-04-25</th>\n",
       "      <td>79243.750000</td>\n",
       "    </tr>\n",
       "    <tr>\n",
       "      <th>2022-04-26</th>\n",
       "      <td>71766.500000</td>\n",
       "    </tr>\n",
       "  </tbody>\n",
       "</table>\n",
       "<p>365 rows × 1 columns</p>\n",
       "</div>"
      ],
      "text/plain": [
       "             mean_amount\n",
       "order_date              \n",
       "2021-04-27           NaN\n",
       "2021-04-28           NaN\n",
       "2021-04-29           NaN\n",
       "2021-04-30           NaN\n",
       "2021-05-01           NaN\n",
       "...                  ...\n",
       "2022-04-22  78144.821429\n",
       "2022-04-23  79807.892857\n",
       "2022-04-24  81194.178571\n",
       "2022-04-25  79243.750000\n",
       "2022-04-26  71766.500000\n",
       "\n",
       "[365 rows x 1 columns]"
      ]
     },
     "execution_count": 52,
     "metadata": {},
     "output_type": "execute_result"
    }
   ],
   "source": [
    "# 不同时间的销售总额\n",
    "time_amount=pd.DataFrame(df8,columns=['order_date','mean_amount']).groupby(by='order_date').sum()\n",
    "time_amount_7_tissue=time_amount.rolling(7).mean()\n",
    "# plt.figure(figsize=(15,6))\n",
    "# plt.plot(time_amount_7_Eye_care_product.index,time_amount_7_Eye_care_product.mean_amount)\n",
    "# plt.title('Total amount for each month', fontsize=14)\n",
    "# x_major_locator=MultipleLocator(30)\n",
    "# ax=plt.gca()\n",
    "# ax.xaxis.set_major_locator(x_major_locator)\n",
    "time_amount_7_tissue"
   ]
  },
  {
   "cell_type": "code",
   "execution_count": 31,
   "id": "18b15292-6c62-4778-9b77-67318520e788",
   "metadata": {},
   "outputs": [],
   "source": [
    "time_amount_7_bodywash.to_csv('bodywash.csv')"
   ]
  },
  {
   "cell_type": "code",
   "execution_count": 14,
   "id": "8f4169a3-18a6-4110-aa6a-b832b2cd7f40",
   "metadata": {},
   "outputs": [],
   "source": [
    "time_amount_7_Cold_flu_medicine.to_csv('Cold_flu_medicine.csv')"
   ]
  },
  {
   "cell_type": "code",
   "execution_count": 19,
   "id": "cbced357-8e04-44ad-8dd0-9255080d1352",
   "metadata": {},
   "outputs": [],
   "source": [
    "time_amount_7_Daily_contact_len.to_csv('Daily_contact_len.csv')"
   ]
  },
  {
   "cell_type": "code",
   "execution_count": 34,
   "id": "69d3fadd-9b2a-474f-9572-0b6aafee0dfc",
   "metadata": {},
   "outputs": [],
   "source": [
    "time_amount_7_Eye_care_product.to_csv('Eye_care_product.csv')"
   ]
  },
  {
   "cell_type": "code",
   "execution_count": 38,
   "id": "ab5ddf27-393b-4b74-9262-f97dc784f9a4",
   "metadata": {},
   "outputs": [],
   "source": [
    "time_amount_7_laundry_detergent.to_csv('laundry_detergent.csv')"
   ]
  },
  {
   "cell_type": "code",
   "execution_count": 42,
   "id": "8ea9e75c-6ea0-4ff6-a2e1-60b2efa14ee7",
   "metadata": {},
   "outputs": [],
   "source": [
    "time_amount_7_oil.to_csv('oil.csv')"
   ]
  },
  {
   "cell_type": "code",
   "execution_count": 46,
   "id": "86e8afe2-a8fb-41d6-aa29-54d2105f7aac",
   "metadata": {},
   "outputs": [],
   "source": [
    "time_amount_7_rice.to_csv('rice.csv')"
   ]
  },
  {
   "cell_type": "code",
   "execution_count": 49,
   "id": "61d9751e-98aa-4574-b7b8-fe3f9e572f31",
   "metadata": {},
   "outputs": [],
   "source": [
    "time_amount_7_shampoo.to_csv('shampoo.csv')"
   ]
  },
  {
   "cell_type": "code",
   "execution_count": 53,
   "id": "67e0faf1-8544-4c88-bede-f6b8f11f2b64",
   "metadata": {},
   "outputs": [],
   "source": [
    "time_amount_7_tissue.to_csv('tissue.csv')"
   ]
  },
  {
   "cell_type": "code",
   "execution_count": null,
   "id": "df2e4762-197b-4042-b2d8-447c080945fe",
   "metadata": {},
   "outputs": [],
   "source": []
  }
 ],
 "metadata": {
  "kernelspec": {
   "display_name": "Python 3 (ipykernel)",
   "language": "python",
   "name": "python3"
  },
  "language_info": {
   "codemirror_mode": {
    "name": "ipython",
    "version": 3
   },
   "file_extension": ".py",
   "mimetype": "text/x-python",
   "name": "python",
   "nbconvert_exporter": "python",
   "pygments_lexer": "ipython3",
   "version": "3.8.11"
  }
 },
 "nbformat": 4,
 "nbformat_minor": 5
}
